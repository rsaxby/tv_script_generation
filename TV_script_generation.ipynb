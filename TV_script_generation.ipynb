{
  "nbformat": 4,
  "nbformat_minor": 0,
  "metadata": {
    "colab": {
      "name": "TV_script_generation.ipynb",
      "version": "0.3.2",
      "provenance": [],
      "collapsed_sections": [],
      "include_colab_link": true
    },
    "kernelspec": {
      "name": "python3",
      "display_name": "Python 3"
    },
    "accelerator": "GPU"
  },
  "cells": [
    {
      "cell_type": "markdown",
      "metadata": {
        "id": "view-in-github",
        "colab_type": "text"
      },
      "source": [
        "<a href=\"https://colab.research.google.com/github/rsaxby/tv_script_generation/blob/master/TV_script_generation.ipynb\" target=\"_parent\"><img src=\"https://colab.research.google.com/assets/colab-badge.svg\" alt=\"Open In Colab\"/></a>"
      ]
    },
    {
      "metadata": {
        "id": "P8QA37ly6-qd",
        "colab_type": "text"
      },
      "cell_type": "markdown",
      "source": [
        "# RNN - TV Script Generation\n",
        "\n",
        "This was the third project in the Udacity Deep Learning Nanodegree program. In this project, I generated [Seinfeld](https://en.wikipedia.org/wiki/Seinfeld) TV scripts using RNNs.  The dataset is from [Seinfeld dataset](https://www.kaggle.com/thec03u5/seinfeld-chronicles#scripts.csv) of scripts from 9 seasons.  \n"
      ]
    },
    {
      "metadata": {
        "id": "nAGHHdTk7k1u",
        "colab_type": "code",
        "outputId": "f660efab-b889-45b4-87ed-4274ce213da9",
        "colab": {
          "base_uri": "https://localhost:8080/",
          "height": 72
        }
      },
      "cell_type": "code",
      "source": [
        "# import libraries\n",
        "import torch\n",
        "import torchvision\n",
        "from torch.utils.data import TensorDataset, DataLoader\n",
        "import numpy as np\n",
        "from collections import Counter\n",
        "from torchvision import models, transforms\n",
        "from torch import nn, optim\n",
        "\n",
        "from google.colab import drive\n",
        "drive.mount('/content/drive')\n",
        "\n",
        "%cd /content/drive/My\\ Drive/Colab\\ Notebooks/data/generate_script_data/\n",
        "\n",
        "# list files in directory\n",
        "# !ls\n",
        "\n",
        "import helper\n",
        "from generate import generate\n",
        "from train import train_rnn, forward_back_prop\n",
        "from LSTM import LSTM\n",
        "\n",
        "# Check for a GPU\n",
        "train_on_gpu = torch.cuda.is_available()\n",
        "if not train_on_gpu:\n",
        "    print('No GPU found. Please use a GPU to train your neural network.')"
      ],
      "execution_count": 1,
      "outputs": [
        {
          "output_type": "stream",
          "text": [
            "Drive already mounted at /content/drive; to attempt to forcibly remount, call drive.mount(\"/content/drive\", force_remount=True).\n",
            "/content/drive/My Drive/Colab Notebooks/data/generate_script_data\n"
          ],
          "name": "stdout"
        }
      ]
    },
    {
      "metadata": {
        "id": "hAjvqtPG6-qi",
        "colab_type": "text"
      },
      "cell_type": "markdown",
      "source": [
        "## Explore the Data"
      ]
    },
    {
      "metadata": {
        "id": "i4FqBh-E6-qe",
        "colab_type": "code",
        "colab": {}
      },
      "cell_type": "code",
      "source": [
        "# load in data\n",
        "data_dir = 'Seinfeld_Scripts.txt'\n",
        "text = helper.load_data(data_dir)"
      ],
      "execution_count": 0,
      "outputs": []
    },
    {
      "metadata": {
        "id": "EowzLY526-qj",
        "colab_type": "code",
        "outputId": "eaf8af1b-c508-465a-a54d-cdd819584c0a",
        "colab": {
          "base_uri": "https://localhost:8080/",
          "height": 365
        }
      },
      "cell_type": "code",
      "source": [
        "view_line_range = (0, 10)\n",
        "\n",
        "print('Dataset Stats\\n')\n",
        "print('Roughly the number of unique words: {}'.format(len({word: None for word in text.split()})))\n",
        "\n",
        "lines = text.split('\\n')\n",
        "print('Number of lines: {}'.format(len(lines)))\n",
        "word_count_line = [len(line.split()) for line in lines]\n",
        "print('Average number of words in each line: {}\\n'.format(np.average(word_count_line)))\n",
        "\n",
        "print(\"-\"*100)\n",
        "print('The lines {} to {}:\\n'.format(*view_line_range))\n",
        "print('\\n'.join(text.split('\\n')[view_line_range[0]:view_line_range[1]]))"
      ],
      "execution_count": 0,
      "outputs": [
        {
          "output_type": "stream",
          "text": [
            "Dataset Stats\n",
            "\n",
            "Roughly the number of unique words: 46367\n",
            "Number of lines: 109233\n",
            "Average number of words in each line: 5.544240293684143\n",
            "\n",
            "----------------------------------------------------------------------------------------------------\n",
            "The lines 0 to 10:\n",
            "\n",
            "jerry: do you know what this is all about? do you know, why were here? to be out, this is out...and out is one of the single most enjoyable experiences of life. people...did you ever hear people talking about we should go out? this is what theyre talking about...this whole thing, were all out now, no one is home. not one person here is home, were all out! there are people trying to find us, they dont know where we are. (on an imaginary phone) did you ring?, i cant find him. where did he go? he didnt tell me where he was going. he must have gone out. you wanna go out you get ready, you pick out the clothes, right? you take the shower, you get all ready, get the cash, get your friends, the car, the spot, the reservation...then youre standing around, what do you do? you go we gotta be getting back. once youre out, you wanna get back! you wanna go to sleep, you wanna get up, you wanna go out again tomorrow, right? where ever you are in life, its my feeling, youve gotta go. \n",
            "\n",
            "jerry: (pointing at georges shirt) see, to me, that button is in the worst possible spot. the second button literally makes or breaks the shirt, look at it. its too high! its in no-mans-land. you look like you live with your mother. \n",
            "\n",
            "george: are you through? \n",
            "\n",
            "jerry: you do of course try on, when you buy? \n",
            "\n",
            "george: yes, it was purple, i liked it, i dont actually recall considering the buttons. \n",
            "\n"
          ],
          "name": "stdout"
        }
      ]
    },
    {
      "metadata": {
        "id": "DOeZnhXy6-qm",
        "colab_type": "text"
      },
      "cell_type": "markdown",
      "source": [
        "---\n",
        "## Preprocess data\n",
        "We need to preprocess the data by tokenizing punctuation, and encoding the words to integers. We will also need a reverse lookup table to convert the integers back to the vocabulary."
      ]
    },
    {
      "metadata": {
        "id": "HdyCq5BI6-qq",
        "colab_type": "text"
      },
      "cell_type": "markdown",
      "source": [
        "### Tokenize Punctuation\n",
        "We'll be splitting the script into a word array using spaces as delimiters.  However, punctuations like periods and exclamation marks can create multiple ids for the same word. For example, \"bye\" and \"bye!\" would generate two different word ids.\n",
        "\n",
        "This dictionary will be used to tokenize the symbols and add the delimiter (space) around it.  This separates each symbols as its own word, making it easier for the neural network to predict the next word.\n",
        "\n",
        "The following punctuation symbols are the keys and values are the token:\n",
        "- Period ( **.** )\n",
        "- Comma ( **,** )\n",
        "- Quotation Mark ( **\"** )\n",
        "- Semicolon ( **;** )\n",
        "- Exclamation mark ( **!** )\n",
        "- Question mark ( **?** )\n",
        "- Left Parentheses ( **(** )\n",
        "- Right Parentheses ( **)** )\n",
        "- Dash ( **-** )\n",
        "- Return ( **\\n** )\n",
        "\n"
      ]
    },
    {
      "metadata": {
        "id": "FMBXIXvw6-qv",
        "colab_type": "text"
      },
      "cell_type": "markdown",
      "source": [
        "## Pre-process all the data and save it"
      ]
    },
    {
      "metadata": {
        "id": "Af149dTO6-qw",
        "colab_type": "code",
        "colab": {}
      },
      "cell_type": "code",
      "source": [
        "#preprocess data and save it\n",
        "\n",
        "helper.preprocess_and_save_data(data_dir, helper.token_lookup, helper.create_lookup_tables)"
      ],
      "execution_count": 0,
      "outputs": []
    },
    {
      "metadata": {
        "id": "w7XOJgTg6-q0",
        "colab_type": "text"
      },
      "cell_type": "markdown",
      "source": [
        "# Check Point\n",
        "Load our tokenized words and dictionaries"
      ]
    },
    {
      "metadata": {
        "id": "EN5Eg4676-q1",
        "colab_type": "code",
        "colab": {}
      },
      "cell_type": "code",
      "source": [
        "int_text, vocab_to_int, int_to_vocab, token_dict = helper.load_preprocess()"
      ],
      "execution_count": 0,
      "outputs": []
    },
    {
      "metadata": {
        "id": "7ZzXlZwp6-q5",
        "colab_type": "text"
      },
      "cell_type": "markdown",
      "source": [
        "## Train the Neural Network"
      ]
    },
    {
      "metadata": {
        "id": "3umjMxQ96-rS",
        "colab_type": "text"
      },
      "cell_type": "markdown",
      "source": [
        "### Hyperparameters\n",
        "\n",
        "Set and train the neural network with the following parameters:\n",
        "- Set `sequence_length` to the length of a sequence.\n",
        "- Set `batch_size` to the batch size.\n",
        "- Set `num_epochs` to the number of epochs to train for.\n",
        "- Set `learning_rate` to the learning rate for an Adam optimizer.\n",
        "- Set `vocab_size` to the number of unique tokens in our vocabulary.\n",
        "- Set `output_size` to the desired size of the output.\n",
        "- Set `embedding_dim` to the embedding dimension; smaller than the vocab_size.\n",
        "- Set `hidden_dim` to the hidden dimension of your RNN.\n",
        "- Set `n_layers` to the number of layers/cells in your RNN.\n",
        "- Set `show_every_n_batches` to the number of batches at which the neural network should print progress.\n"
      ]
    },
    {
      "metadata": {
        "id": "vNzdKe966-rT",
        "colab_type": "code",
        "outputId": "c485b710-7693-43b8-9d31-33d8528b7d71",
        "colab": {
          "base_uri": "https://localhost:8080/",
          "height": 69
        }
      },
      "cell_type": "code",
      "source": [
        "# Data params\n",
        "# Sequence Length\n",
        "sequence_length = 10  # of words in a sequence\n",
        "# Batch Size\n",
        "batch_size = 128\n",
        "\n",
        "# data loader - do not change\n",
        "train_loader = helper.batch_data(int_text, sequence_length, batch_size)\n",
        "print(len(train_loader))\n",
        "print(len(int_text))\n",
        "print(len(vocab_to_int))"
      ],
      "execution_count": 4,
      "outputs": [
        {
          "output_type": "stream",
          "text": [
            "6977\n",
            "893068\n",
            "21101\n"
          ],
          "name": "stdout"
        }
      ]
    },
    {
      "metadata": {
        "id": "dHM7Mv646-rX",
        "colab_type": "code",
        "colab": {}
      },
      "cell_type": "code",
      "source": [
        "# Training parameters\n",
        "# Number of Epochs\n",
        "num_epochs = 10\n",
        "# Learning Rate\n",
        "learning_rate = 0.0001\n",
        "\n",
        "# Model parameters\n",
        "# Vocab size\n",
        "vocab_size = len(vocab_to_int)\n",
        "# Output size\n",
        "output_size = len(vocab_to_int)\n",
        "# Embedding Dimension\n",
        "embedding_dim = 200\n",
        "# Hidden Dimension\n",
        "hidden_dim = 1024 \n",
        "# Number of RNN Layers\n",
        "n_layers = 2\n",
        "\n",
        "# Show stats for every n number of batches\n",
        "show_every_n_batches = 1000"
      ],
      "execution_count": 0,
      "outputs": []
    },
    {
      "metadata": {
        "id": "tmdd9JCy6-rd",
        "colab_type": "text"
      },
      "cell_type": "markdown",
      "source": [
        "## Train and Save the Model"
      ]
    },
    {
      "metadata": {
        "id": "00oeuTBh6-re",
        "colab_type": "code",
        "outputId": "0f698dba-12af-4300-eb7e-f0f6fb28fc1e",
        "colab": {
          "base_uri": "https://localhost:8080/",
          "height": 2558
        }
      },
      "cell_type": "code",
      "source": [
        "# create model and move to gpu if available\n",
        "rnn = LSTM(vocab_size, output_size, embedding_dim, hidden_dim, n_layers, dropout=0.1)\n",
        "print(rnn)\n",
        "if train_on_gpu:\n",
        "    rnn.cuda()\n",
        "\n",
        "# defining loss and optimization functions for training\n",
        "optimizer = torch.optim.Adam(rnn.parameters(), lr=learning_rate)\n",
        "criterion = nn.CrossEntropyLoss()\n",
        "\n",
        "# training the model\n",
        "trained_rnn = train_rnn(train_loader, rnn, batch_size, optimizer, criterion, num_epochs, show_every_n_batches)\n",
        "\n",
        "# saving the trained model\n",
        "helper.save_model('./save/trained_rnn', trained_rnn)\n",
        "print('Model Trained and Saved')"
      ],
      "execution_count": 6,
      "outputs": [
        {
          "output_type": "stream",
          "text": [
            "LSTM(\n",
            "  (embedding): Embedding(21101, 200)\n",
            "  (lstm): LSTM(200, 1024, num_layers=2, batch_first=True, dropout=0.1)\n",
            "  (dropout): Dropout(p=0.1)\n",
            "  (fc1): Linear(in_features=1024, out_features=21101, bias=True)\n",
            ")\n",
            "Training for 10 epoch(s)...\n",
            "Epoch:    1/10    Loss: 5.315966662883759\n",
            "\n",
            "Epoch:    1/10    Loss: 4.748413198232651\n",
            "\n",
            "Epoch:    1/10    Loss: 4.564974627256394\n",
            "\n",
            "Epoch:    1/10    Loss: 4.443097419261933\n",
            "\n",
            "Epoch:    1/10    Loss: 4.342179317474365\n",
            "\n",
            "Epoch:    1/10    Loss: 4.283993170022964\n",
            "\n",
            "Epoch:    2/10    Loss: 4.19634091359401\n",
            "\n",
            "Epoch:    2/10    Loss: 4.088799948215485\n",
            "\n",
            "Epoch:    2/10    Loss: 4.057359923124313\n",
            "\n",
            "Epoch:    2/10    Loss: 4.047254534721374\n",
            "\n",
            "Epoch:    2/10    Loss: 4.010341264486313\n",
            "\n",
            "Epoch:    2/10    Loss: 3.9898109273910523\n",
            "\n",
            "Epoch:    3/10    Loss: 3.904500654231199\n",
            "\n",
            "Epoch:    3/10    Loss: 3.8530237324237824\n",
            "\n",
            "Epoch:    3/10    Loss: 3.841009118080139\n",
            "\n",
            "Epoch:    3/10    Loss: 3.831748018503189\n",
            "\n",
            "Epoch:    3/10    Loss: 3.813307229757309\n",
            "\n",
            "Epoch:    3/10    Loss: 3.814669328689575\n",
            "\n",
            "Epoch:    4/10    Loss: 3.7366123066739996\n",
            "\n",
            "Epoch:    4/10    Loss: 3.6638460268974304\n",
            "\n",
            "Epoch:    4/10    Loss: 3.6577813403606414\n",
            "\n",
            "Epoch:    4/10    Loss: 3.663228789806366\n",
            "\n",
            "Epoch:    4/10    Loss: 3.668824966907501\n",
            "\n",
            "Epoch:    4/10    Loss: 3.6526589498519897\n",
            "\n",
            "Epoch:    5/10    Loss: 3.5727396811309613\n",
            "\n",
            "Epoch:    5/10    Loss: 3.4938561301231386\n",
            "\n",
            "Epoch:    5/10    Loss: 3.5088788430690765\n",
            "\n",
            "Epoch:    5/10    Loss: 3.5101086626052855\n",
            "\n",
            "Epoch:    5/10    Loss: 3.5247859375476835\n",
            "\n",
            "Epoch:    5/10    Loss: 3.518047018289566\n",
            "\n",
            "Epoch:    6/10    Loss: 3.434199764540321\n",
            "\n",
            "Epoch:    6/10    Loss: 3.337315858840942\n",
            "\n",
            "Epoch:    6/10    Loss: 3.3673770418167113\n",
            "\n",
            "Epoch:    6/10    Loss: 3.3630365760326386\n",
            "\n",
            "Epoch:    6/10    Loss: 3.3762951533794405\n",
            "\n",
            "Epoch:    6/10    Loss: 3.3759059648513796\n",
            "\n",
            "Epoch:    7/10    Loss: 3.2772142501012516\n",
            "\n",
            "Epoch:    7/10    Loss: 3.2035187821388247\n",
            "\n",
            "Epoch:    7/10    Loss: 3.1972919692993162\n",
            "\n",
            "Epoch:    7/10    Loss: 3.210355670928955\n",
            "\n",
            "Epoch:    7/10    Loss: 3.238887634754181\n",
            "\n",
            "Epoch:    7/10    Loss: 3.2483778841495514\n",
            "\n",
            "Epoch:    8/10    Loss: 3.148386502917479\n",
            "\n",
            "Epoch:    8/10    Loss: 3.0527736065387727\n",
            "\n",
            "Epoch:    8/10    Loss: 3.0542188963890076\n",
            "\n",
            "Epoch:    8/10    Loss: 3.0776646449565885\n",
            "\n",
            "Epoch:    8/10    Loss: 3.1021106333732607\n",
            "\n",
            "Epoch:    8/10    Loss: 3.1154283814430235\n",
            "\n",
            "Epoch:    9/10    Loss: 3.0012704468207803\n",
            "\n",
            "Epoch:    9/10    Loss: 2.9011797807216646\n",
            "\n",
            "Epoch:    9/10    Loss: 2.927100675582886\n",
            "\n",
            "Epoch:    9/10    Loss: 2.9473366096019746\n",
            "\n",
            "Epoch:    9/10    Loss: 2.9642237622737886\n",
            "\n",
            "Epoch:    9/10    Loss: 2.9739666669368745\n",
            "\n",
            "Epoch:   10/10    Loss: 2.873290445640502\n",
            "\n",
            "Epoch:   10/10    Loss: 2.769265697479248\n",
            "\n",
            "Epoch:   10/10    Loss: 2.7935087885856626\n",
            "\n",
            "Epoch:   10/10    Loss: 2.807138967990875\n",
            "\n",
            "Epoch:   10/10    Loss: 2.84058655166626\n",
            "\n",
            "Epoch:   10/10    Loss: 2.8542696509361267\n",
            "\n"
          ],
          "name": "stdout"
        },
        {
          "output_type": "display_data",
          "data": {
            "image/png": "[encoded data removed]",
            "text/plain": [
              "<Figure size 576x396 with 1 Axes>"
            ]
          },
          "metadata": {
            "tags": []
          }
        },
        {
          "output_type": "stream",
          "text": [
            "Model Trained and Saved\n"
          ],
          "name": "stdout"
        }
      ]
    },
    {
      "metadata": {
        "id": "qgfl3U-f6-ri",
        "colab_type": "text"
      },
      "cell_type": "markdown",
      "source": [
        "---\n",
        "# LoadCheckpoint"
      ]
    },
    {
      "metadata": {
        "id": "IzATCwpJ6-rj",
        "colab_type": "code",
        "colab": {}
      },
      "cell_type": "code",
      "source": [
        "_, vocab_to_int, int_to_vocab, token_dict = helper.load_preprocess()\n",
        "trained_rnn = helper.load_model('./save/trained_rnn')"
      ],
      "execution_count": 0,
      "outputs": []
    },
    {
      "metadata": {
        "id": "CP-bzdeH6-rm",
        "colab_type": "text"
      },
      "cell_type": "markdown",
      "source": [
        "## Generate TV Script\n",
        "We can now generate TV scripts with our trained network."
      ]
    },
    {
      "metadata": {
        "id": "mn4_1Pr36-rq",
        "colab_type": "code",
        "outputId": "bb06e027-5898-4695-f894-d36be10a85a6",
        "colab": {
          "base_uri": "https://localhost:8080/",
          "height": 193
        }
      },
      "cell_type": "code",
      "source": [
        "# run the cell multiple times to get different results!\n",
        "gen_length = 700 # modify the length to your preference\n",
        "prime_word = 'jerry' # name for starting the script\n",
        "sequence_length = 10  # of words in a sequence\n",
        "\n",
        "\n",
        "pad_word = helper.SPECIAL_WORDS['PADDING']\n",
        "generated_script = generate(trained_rnn, vocab_to_int[prime_word +\":\"], int_to_vocab, token_dict, vocab_to_int[pad_word],sequence_length, gen_length)\n",
        "print(generated_script)\n"
      ],
      "execution_count": 7,
      "outputs": [
        {
          "output_type": "stream",
          "text": [
            "jerry: uh, i think i may be going out with her.\n",
            "\n",
            "george: no, i just-\n",
            "\n",
            "george: you know, it's not a good question. it's not my fault. i can't go with her. i dont think that i have to be in the army for a couple- weeks, and the one that was messing.\n",
            "\n",
            "kramer:(to george) hey!(he turns to the door)\n",
            "\n",
            "jerry:(to kramer) you know, i really think i'm gonna do something\n"
          ],
          "name": "stdout"
        }
      ]
    },
    {
      "metadata": {
        "id": "8juNxPgH6-rx",
        "colab_type": "text"
      },
      "cell_type": "markdown",
      "source": [
        "#### Save the script to a text file\n"
      ]
    },
    {
      "metadata": {
        "id": "4fDJq_506-ry",
        "colab_type": "code",
        "colab": {}
      },
      "cell_type": "code",
      "source": [
        "# save script to a text file\n",
        "f =  open(\"generated_script_1.txt\",\"w\")\n",
        "f.write(generated_script)\n",
        "f.close()"
      ],
      "execution_count": 0,
      "outputs": []
    }
  ]
}